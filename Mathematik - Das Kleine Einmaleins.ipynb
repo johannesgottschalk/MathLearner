{
 "cells": [
  {
   "cell_type": "markdown",
   "id": "forward-ambassador",
   "metadata": {},
   "source": [
    "# Willkommen zur Lektion 'Das Kleine Einmaleins'"
   ]
  },
  {
   "cell_type": "markdown",
   "id": "civilian-click",
   "metadata": {},
   "source": [
    "Heute wollen wir das 'Kleine Einmaleins' lernen. Das kleine Einmaleins ist eine Sammlung aller Zahlen, die sich aus der Multiplikation (d.h. dem Mal-Rechnen) von zwei natürlichen Zahlen von 1 bis 10 ergeben."
   ]
  },
  {
   "cell_type": "markdown",
   "id": "former-utility",
   "metadata": {},
   "source": [
    "Wir wollen gar nicht viel Zeit mit der Theorie beginnen, sondern gleich loslegen. Du kannst im Folgenden das kleine Einmaleins für alle Zahlen von 1 bis 10 berechnen. Und das so oft du willst. Viel Spaß :)"
   ]
  },
  {
   "cell_type": "code",
   "execution_count": 52,
   "id": "heard-trauma",
   "metadata": {},
   "outputs": [],
   "source": [
    "def einmaleins():\n",
    "    \n",
    "    zahl = int(input(\"Gib die Zahl ein, für die du das Einmaleins üben möchtest.\"))\n",
    "    counter = 1\n",
    "    \n",
    "    print(\"Jetzt bist du dran: Gib die Lösungen ein: \")\n",
    "    while counter <= 10:\n",
    "        korrekt = False\n",
    "        ergebnis = int(input(str(counter) + \" * \" + str(zahl) + \"=\" ))\n",
    "        \n",
    "        while korrekt == False:\n",
    "            if ergebnis == (int(counter) * int(zahl)):\n",
    "                print(\"Das hast du super gemacht!\")\n",
    "                print(\"Das Ergebnis ist richtig!\")\n",
    "                counter += 1\n",
    "                korrekt = True\n",
    "            else:\n",
    "                counter = int(counter)\n",
    "                zahl = int(zahl)\n",
    "                print(\"Das Ergbnis ist leider falsch.\")\n",
    "                ergebnis = int(input(\"Probiere es nochmal\"))\n",
    "        \n",
    "        \n",
    "        \n",
    "   "
   ]
  },
  {
   "cell_type": "code",
   "execution_count": null,
   "id": "elementary-metropolitan",
   "metadata": {},
   "outputs": [],
   "source": [
    "einmaleins()"
   ]
  },
  {
   "cell_type": "code",
   "execution_count": null,
   "id": "protected-plymouth",
   "metadata": {},
   "outputs": [],
   "source": []
  },
  {
   "cell_type": "code",
   "execution_count": null,
   "id": "sitting-calcium",
   "metadata": {},
   "outputs": [],
   "source": []
  }
 ],
 "metadata": {
  "kernelspec": {
   "display_name": "Python 3",
   "language": "python",
   "name": "python3"
  },
  "language_info": {
   "codemirror_mode": {
    "name": "ipython",
    "version": 3
   },
   "file_extension": ".py",
   "mimetype": "text/x-python",
   "name": "python",
   "nbconvert_exporter": "python",
   "pygments_lexer": "ipython3",
   "version": "3.9.2"
  }
 },
 "nbformat": 4,
 "nbformat_minor": 5
}
